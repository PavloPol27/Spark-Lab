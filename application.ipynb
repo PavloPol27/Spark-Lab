{
 "cells": [
  {
   "cell_type": "code",
   "execution_count": 1,
   "id": "78a79784-6a75-473d-8d6f-52e965fc9b5f",
   "metadata": {},
   "outputs": [],
   "source": [
    "from pyspark.sql import SparkSession\n",
    "\n",
    "# Spark session & context\n",
    "spark = SparkSession.builder.master('local').getOrCreate()\n",
    "sc = spark.sparkContext"
   ]
  },
  {
   "cell_type": "code",
   "execution_count": 2,
   "id": "600a84cf-e1a5-4c7b-9295-ddf876678583",
   "metadata": {},
   "outputs": [
    {
     "data": {
      "text/plain": [
       "1296"
      ]
     },
     "execution_count": 2,
     "metadata": {},
     "output_type": "execute_result"
    }
   ],
   "source": [
    "lines = sc.textFile(\"lai-eliduc.txt\")\n",
    "lines.count()"
   ]
  },
  {
   "cell_type": "code",
   "execution_count": 27,
   "id": "6b1c8d23-43fa-4f43-85b6-9245196ac185",
   "metadata": {},
   "outputs": [
    {
     "data": {
      "text/plain": [
       "[('De', 53),\n",
       " ('un', 28),\n",
       " ('mut', 34),\n",
       " ('Le', 12),\n",
       " ('e', 116),\n",
       " ('tute', 8),\n",
       " ('la', 138),\n",
       " ('si', 50),\n",
       " ('cum', 12),\n",
       " ('jeo', 19)]"
      ]
     },
     "execution_count": 27,
     "metadata": {},
     "output_type": "execute_result"
    }
   ],
   "source": [
    "import re\n",
    "lines_split = lines.flatMap(lambda line: re.split(r\"\\W+\", line))\n",
    "words_in_line = lines_split.map(lambda word: (word, 1))\n",
    "words_counter = words_in_line.reduceByKey(lambda a,b: a + b)\n",
    "remove_small_occ = words_counter.filter(lambda x: x[1] >= 8)\n",
    "remove_small_occ.take(10)\n",
    "# count = words_counter.sortBy(lambda x: x[1], ascending=False).collect()\n",
    "# result = sc.parallelize(count).saveAsTextFile(\"nbmots\")"
   ]
  },
  {
   "cell_type": "code",
   "execution_count": null,
   "id": "1fc37d92-7cd4-43eb-ad24-95c973f55c54",
   "metadata": {},
   "outputs": [],
   "source": []
  }
 ],
 "metadata": {
  "kernelspec": {
   "display_name": "Python 3 (ipykernel)",
   "language": "python",
   "name": "python3"
  },
  "language_info": {
   "codemirror_mode": {
    "name": "ipython",
    "version": 3
   },
   "file_extension": ".py",
   "mimetype": "text/x-python",
   "name": "python",
   "nbconvert_exporter": "python",
   "pygments_lexer": "ipython3",
   "version": "3.11.6"
  }
 },
 "nbformat": 4,
 "nbformat_minor": 5
}
